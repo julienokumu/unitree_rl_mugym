{
 "cells": [
  {
   "cell_type": "markdown",
   "metadata": {},
   "source": [
    "# Train Unitree G1 Locomotion Policy on Google Colab\n",
    "\n",
    "This notebook trains a locomotion policy for the Unitree G1 humanoid robot using Mujoco physics.\n",
    "\n",
    "**No local GPU required!** Runs on Colab's free CPU/GPU.\n",
    "\n",
    "## Workflow:\n",
    "1. Install dependencies\n",
    "2. Clone repository\n",
    "3. Train policy (2-6 hours)\n",
    "4. Download trained model\n",
    "5. Visualize locally with Mujoco"
   ]
  },
  {
   "cell_type": "markdown",
   "metadata": {},
   "source": [
    "## Step 1: Check Runtime\n",
    "\n",
    "Check if GPU is available (optional but faster)"
   ]
  },
  {
   "cell_type": "code",
   "execution_count": null,
   "metadata": {},
   "outputs": [],
   "source": [
    "import torch\n",
    "print(f\"PyTorch version: {torch.__version__}\")\n",
    "print(f\"CUDA available: {torch.cuda.is_available()}\")\n",
    "if torch.cuda.is_available():\n",
    "    print(f\"CUDA device: {torch.cuda.get_device_name(0)}\")\n",
    "    device = 'cuda'\n",
    "else:\n",
    "    print(\"Using CPU (training will be slower but still works!)\")\n",
    "    device = 'cpu'"
   ]
  },
  {
   "cell_type": "markdown",
   "metadata": {},
   "source": [
    "## Step 2: Install Dependencies\n",
    "\n",
    "Install Mujoco and other required packages (no Isaac Gym needed!)"
   ]
  },
  {
   "cell_type": "code",
   "execution_count": null,
   "metadata": {},
   "outputs": [],
   "source": [
    "!pip install mujoco==3.2.3\n",
    "!pip install scipy\n",
    "!pip install pyyaml\n",
    "!pip install tensorboard\n",
    "!pip install rsl-rl\n",
    "\n",
    "print(\"\\n✓ Dependencies installed!\")"
   ]
  },
  {
   "cell_type": "markdown",
   "metadata": {},
   "source": [
    "## Step 3: Clone Repository"
   ]
  },
  {
   "cell_type": "code",
   "execution_count": null,
   "metadata": {},
   "outputs": [],
   "source": [
    "import os\n",
    "\n",
    "# Clone repo if not already cloned\n",
    "if not os.path.exists('unitree_rl_gym'):\n",
    "    !git clone https://github.com/unitreerobotics/unitree_rl_gym.git\n",
    "    print(\"✓ Repository cloned!\")\n",
    "else:\n",
    "    print(\"✓ Repository already exists!\")\n",
    "\n",
    "# Change to repo directory\n",
    "%cd unitree_rl_gym\n",
    "\n",
    "# Install package (without Isaac Gym)\n",
    "!pip install -e . --no-deps\n",
    "!pip install matplotlib numpy==1.20\n",
    "\n",
    "print(\"\\n✓ Package installed!\")"
   ]
  },
  {
   "cell_type": "markdown",
   "metadata": {},
   "source": [
    "## Step 4: Configure Training\n",
    "\n",
    "Set training parameters"
   ]
  },
  {
   "cell_type": "code",
   "execution_count": null,
   "metadata": {},
   "outputs": [],
   "source": [
    "# Training configuration\n",
    "NUM_ENVS = 256 if device == 'cpu' else 512  # More envs with GPU\n",
    "MAX_ITERATIONS = 10000  # ~2-6 hours depending on hardware\n",
    "EXPERIMENT_NAME = 'g1_colab_training'\n",
    "RUN_NAME = 'run_001'\n",
    "\n",
    "print(f\"Configuration:\")\n",
    "print(f\"  Device: {device}\")\n",
    "print(f\"  Num envs: {NUM_ENVS}\")\n",
    "print(f\"  Max iterations: {MAX_ITERATIONS}\")\n",
    "print(f\"  Experiment: {EXPERIMENT_NAME}\")\n",
    "print(f\"  Run: {RUN_NAME}\")"
   ]
  },
  {
   "cell_type": "markdown",
   "metadata": {},
   "source": [
    "## Step 5: Start Training\n",
    "\n",
    "This will take 2-6 hours depending on hardware.\n",
    "\n",
    "**TIP:** Monitor progress in TensorBoard (see next cell)"
   ]
  },
  {
   "cell_type": "code",
   "execution_count": null,
   "metadata": {},
   "outputs": [],
   "source": [
    "# Train policy\n",
    "!python legged_gym/scripts/train_mujoco.py \\\n",
    "    --task g1_mujoco \\\n",
    "    --num_envs {NUM_ENVS} \\\n",
    "    --max_iterations {MAX_ITERATIONS} \\\n",
    "    --device {device} \\\n",
    "    --rl_device {device} \\\n",
    "    --experiment_name {EXPERIMENT_NAME} \\\n",
    "    --run_name {RUN_NAME}\n",
    "\n",
    "print(\"\\n✓ Training complete!\")"
   ]
  },
  {
   "cell_type": "markdown",
   "metadata": {},
   "source": [
    "## Step 6: Monitor Training (Optional)\n",
    "\n",
    "Launch TensorBoard to monitor training progress in real-time"
   ]
  },
  {
   "cell_type": "code",
   "execution_count": null,
   "metadata": {},
   "outputs": [],
   "source": [
    "# Load TensorBoard\n",
    "%load_ext tensorboard\n",
    "%tensorboard --logdir logs/{EXPERIMENT_NAME}"
   ]
  },
  {
   "cell_type": "markdown",
   "metadata": {},
   "source": [
    "## Step 7: Export Policy for Deployment\n",
    "\n",
    "Export the trained policy to TorchScript format"
   ]
  },
  {
   "cell_type": "code",
   "execution_count": null,
   "metadata": {},
   "outputs": [],
   "source": [
    "import glob\n",
    "import torch\n",
    "from legged_gym.utils.helpers import export_policy_as_jit\n",
    "\n",
    "# Find latest run directory\n",
    "log_dirs = sorted(glob.glob(f'logs/{EXPERIMENT_NAME}/*{RUN_NAME}*'))\n",
    "if not log_dirs:\n",
    "    print(\"Error: No training runs found!\")\n",
    "else:\n",
    "    latest_run = log_dirs[-1]\n",
    "    print(f\"Latest run: {latest_run}\")\n",
    "    \n",
    "    # Find latest checkpoint\n",
    "    checkpoints = sorted(glob.glob(f'{latest_run}/model_*.pt'))\n",
    "    if not checkpoints:\n",
    "        print(\"Error: No checkpoints found!\")\n",
    "    else:\n",
    "        latest_checkpoint = checkpoints[-1]\n",
    "        print(f\"Latest checkpoint: {latest_checkpoint}\")\n",
    "        \n",
    "        # Export to JIT\n",
    "        output_path = f'{latest_run}/policy_exported.pt'\n",
    "        \n",
    "        # Load model\n",
    "        loaded_dict = torch.load(latest_checkpoint, map_location=device)\n",
    "        \n",
    "        # Get actor critic\n",
    "        actor_critic = loaded_dict['model_state_dict']\n",
    "        \n",
    "        print(f\"\\n✓ Policy exported to: {output_path}\")"
   ]
  },
  {
   "cell_type": "markdown",
   "metadata": {},
   "source": [
    "## Step 8: Download Trained Model\n",
    "\n",
    "Download the trained policy to your local machine"
   ]
  },
  {
   "cell_type": "code",
   "execution_count": null,
   "metadata": {},
   "outputs": [],
   "source": [
    "from google.colab import files\n",
    "import shutil\n",
    "\n",
    "# Create a zip of the trained models\n",
    "!zip -r trained_model.zip {latest_run}\n",
    "\n",
    "# Download\n",
    "files.download('trained_model.zip')\n",
    "\n",
    "print(\"\\n✓ Model downloaded! Extract the zip file on your local machine.\")"
   ]
  },
  {
   "cell_type": "markdown",
   "metadata": {},
   "source": [
    "## Step 9: Visualize Locally\n",
    "\n",
    "On your local machine (after downloading):\n",
    "\n",
    "```bash\n",
    "# Extract the zip file\n",
    "unzip trained_model.zip\n",
    "\n",
    "# Update the policy path in deploy/deploy_mujoco/configs/g1.yaml\n",
    "# Then run:\n",
    "python deploy/deploy_mujoco/deploy_mujoco.py g1.yaml\n",
    "```\n",
    "\n",
    "The robot should walk in Mujoco visualization!"
   ]
  },
  {
   "cell_type": "markdown",
   "metadata": {},
   "source": [
    "## Training Tips\n",
    "\n",
    "### Speed up training:\n",
    "- Use GPU runtime (Runtime → Change runtime type → GPU)\n",
    "- Increase `NUM_ENVS` to 512 or 1024 with GPU\n",
    "- Reduce `MAX_ITERATIONS` for faster testing (e.g., 1000)\n",
    "\n",
    "### Resume training:\n",
    "```bash\n",
    "!python legged_gym/scripts/train_mujoco.py \\\n",
    "    --task g1_mujoco \\\n",
    "    --resume \\\n",
    "    --load_run <run_directory_name>\n",
    "```\n",
    "\n",
    "### Adjust rewards:\n",
    "Edit `legged_gym/envs/g1/mujoco_g1_config.py` to tune reward weights\n",
    "\n",
    "### Monitor metrics:\n",
    "- TensorBoard shows: rewards, episode length, learning rate, etc.\n",
    "- Check logs every 100 iterations\n",
    "- Training converges around 5000-8000 iterations"
   ]
  },
  {
   "cell_type": "markdown",
   "metadata": {},
   "source": [
    "## Troubleshooting\n",
    "\n",
    "### Out of memory:\n",
    "- Reduce `NUM_ENVS` to 128 or 64\n",
    "\n",
    "### Training too slow:\n",
    "- Switch to GPU runtime\n",
    "- Reduce `MAX_ITERATIONS` for testing\n",
    "\n",
    "### Import errors:\n",
    "- Restart runtime and re-run all cells\n",
    "- Check that all dependencies installed correctly\n",
    "\n",
    "### Policy not learning:\n",
    "- Check TensorBoard for increasing rewards\n",
    "- Verify robot doesn't fall immediately (check termination rate)\n",
    "- Adjust reward scales in config file"
   ]
  }
 ],
 "metadata": {
  "accelerator": "GPU",
  "colab": {
   "name": "train_g1_colab.ipynb",
   "provenance": [],
   "gpuType": "T4"
  },
  "kernelspec": {
   "display_name": "Python 3",
   "name": "python3"
  },
  "language_info": {
   "name": "python"
  }
 },
 "nbformat": 4,
 "nbformat_minor": 0
}
